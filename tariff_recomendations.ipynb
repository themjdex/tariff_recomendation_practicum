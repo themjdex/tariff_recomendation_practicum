{
 "cells": [
  {
   "cell_type": "markdown",
   "metadata": {},
   "source": [
    "# Рекомендация тарифов"
   ]
  },
  {
   "cell_type": "markdown",
   "metadata": {},
   "source": [
    "В вашем распоряжении данные о поведении клиентов, которые уже перешли на эти тарифы (из проекта курса «Статистический анализ данных»). Нужно построить модель для задачи классификации, которая выберет подходящий тариф. Предобработка данных не понадобится — вы её уже сделали.\n",
    "\n",
    "Постройте модель с максимально большим значением *accuracy*. Чтобы сдать проект успешно, нужно довести долю правильных ответов по крайней мере до 0.75. Проверьте *accuracy* на тестовой выборке самостоятельно."
   ]
  },
  {
   "cell_type": "markdown",
   "metadata": {},
   "source": [
    "### Ход исследования"
   ]
  },
  {
   "cell_type": "markdown",
   "metadata": {},
   "source": [
    "В рамках данного исследования мы собираемся построить модель для задачи классификации, которая будет подбирать подходящий тариф из двух. При этом точность предсказания не должна быть ниже 0,75. \n",
    "1. Знакомство с файлом (предобработка уже произведена)\n",
    "2. Разбиение на обучающую, валидационную и тестовую выборку\n",
    "3. Исследование разных моделей для выбора наилучшей\n",
    "4. Проверка на тестовой выборке\n",
    "5. Проверка моделей на адекватность"
   ]
  },
  {
   "cell_type": "markdown",
   "metadata": {},
   "source": [
    "## Откройте и изучите файл"
   ]
  },
  {
   "cell_type": "markdown",
   "metadata": {},
   "source": [
    "Подключим необходимые библиотеки, ознакомимся с датасетом и посмотрим инфромацию по нему."
   ]
  },
  {
   "cell_type": "code",
   "execution_count": 1,
   "metadata": {},
   "outputs": [],
   "source": [
    "import pandas as pd\n",
    "\n",
    "from sklearn.model_selection import train_test_split\n",
    "from sklearn.tree import DecisionTreeClassifier\n",
    "from sklearn.ensemble import RandomForestClassifier\n",
    "from sklearn.linear_model import LogisticRegression\n",
    "from sklearn.metrics import mean_squared_error\n",
    "from sklearn.dummy import DummyClassifier"
   ]
  },
  {
   "cell_type": "code",
   "execution_count": 2,
   "metadata": {},
   "outputs": [],
   "source": [
    "try:\n",
    "    df = pd.read_csv('/datasets/users_behavior.csv')\n",
    "except:\n",
    "    raise Exception('Something is wrong. Check the file')"
   ]
  },
  {
   "cell_type": "code",
   "execution_count": 3,
   "metadata": {},
   "outputs": [
    {
     "data": {
      "text/html": [
       "<div>\n",
       "<style scoped>\n",
       "    .dataframe tbody tr th:only-of-type {\n",
       "        vertical-align: middle;\n",
       "    }\n",
       "\n",
       "    .dataframe tbody tr th {\n",
       "        vertical-align: top;\n",
       "    }\n",
       "\n",
       "    .dataframe thead th {\n",
       "        text-align: right;\n",
       "    }\n",
       "</style>\n",
       "<table border=\"1\" class=\"dataframe\">\n",
       "  <thead>\n",
       "    <tr style=\"text-align: right;\">\n",
       "      <th></th>\n",
       "      <th>calls</th>\n",
       "      <th>minutes</th>\n",
       "      <th>messages</th>\n",
       "      <th>mb_used</th>\n",
       "      <th>is_ultra</th>\n",
       "    </tr>\n",
       "  </thead>\n",
       "  <tbody>\n",
       "    <tr>\n",
       "      <th>0</th>\n",
       "      <td>40.0</td>\n",
       "      <td>311.90</td>\n",
       "      <td>83.0</td>\n",
       "      <td>19915.42</td>\n",
       "      <td>0</td>\n",
       "    </tr>\n",
       "    <tr>\n",
       "      <th>1</th>\n",
       "      <td>85.0</td>\n",
       "      <td>516.75</td>\n",
       "      <td>56.0</td>\n",
       "      <td>22696.96</td>\n",
       "      <td>0</td>\n",
       "    </tr>\n",
       "    <tr>\n",
       "      <th>2</th>\n",
       "      <td>77.0</td>\n",
       "      <td>467.66</td>\n",
       "      <td>86.0</td>\n",
       "      <td>21060.45</td>\n",
       "      <td>0</td>\n",
       "    </tr>\n",
       "    <tr>\n",
       "      <th>3</th>\n",
       "      <td>106.0</td>\n",
       "      <td>745.53</td>\n",
       "      <td>81.0</td>\n",
       "      <td>8437.39</td>\n",
       "      <td>1</td>\n",
       "    </tr>\n",
       "    <tr>\n",
       "      <th>4</th>\n",
       "      <td>66.0</td>\n",
       "      <td>418.74</td>\n",
       "      <td>1.0</td>\n",
       "      <td>14502.75</td>\n",
       "      <td>0</td>\n",
       "    </tr>\n",
       "  </tbody>\n",
       "</table>\n",
       "</div>"
      ],
      "text/plain": [
       "   calls  minutes  messages   mb_used  is_ultra\n",
       "0   40.0   311.90      83.0  19915.42         0\n",
       "1   85.0   516.75      56.0  22696.96         0\n",
       "2   77.0   467.66      86.0  21060.45         0\n",
       "3  106.0   745.53      81.0   8437.39         1\n",
       "4   66.0   418.74       1.0  14502.75         0"
      ]
     },
     "execution_count": 3,
     "metadata": {},
     "output_type": "execute_result"
    }
   ],
   "source": [
    "df.head()"
   ]
  },
  {
   "cell_type": "code",
   "execution_count": 4,
   "metadata": {},
   "outputs": [
    {
     "name": "stdout",
     "output_type": "stream",
     "text": [
      "<class 'pandas.core.frame.DataFrame'>\n",
      "RangeIndex: 3214 entries, 0 to 3213\n",
      "Data columns (total 5 columns):\n",
      " #   Column    Non-Null Count  Dtype  \n",
      "---  ------    --------------  -----  \n",
      " 0   calls     3214 non-null   float64\n",
      " 1   minutes   3214 non-null   float64\n",
      " 2   messages  3214 non-null   float64\n",
      " 3   mb_used   3214 non-null   float64\n",
      " 4   is_ultra  3214 non-null   int64  \n",
      "dtypes: float64(4), int64(1)\n",
      "memory usage: 125.7 KB\n"
     ]
    }
   ],
   "source": [
    "df.info()"
   ]
  },
  {
   "cell_type": "markdown",
   "metadata": {},
   "source": [
    "У нас имеется информация о 3214 клиентах и их активности, включающей в себя:\n",
    "- сalls — количество звонков,\n",
    "- minutes — суммарная длительность звонков в минутах,\n",
    "- messages — количество sms-сообщений,\n",
    "- mb_used — израсходованный интернет-трафик в Мб,\n",
    "- is_ultra — каким тарифом пользовался в течение месяца («Ультра» — 1, «Смарт» — 0).\n",
    "\n",
    "Признаками здесь будут *сalls, minutes, messages, mb_used*, а целевым признаком — *is_ultra*, т.е. нам по признакам активности нужно будет в будущем предсказывать, какой тариф скорее всего заинтересует клиента."
   ]
  },
  {
   "cell_type": "code",
   "execution_count": 5,
   "metadata": {},
   "outputs": [
    {
     "data": {
      "text/plain": [
       "0    2229\n",
       "1     985\n",
       "Name: is_ultra, dtype: int64"
      ]
     },
     "execution_count": 5,
     "metadata": {},
     "output_type": "execute_result"
    }
   ],
   "source": [
    "df['is_ultra'].value_counts()"
   ]
  },
  {
   "cell_type": "markdown",
   "metadata": {},
   "source": [
    "В текущем датасете тарифом «Смарт» пользуется примерно 70% клиентов. Эта информация может помочь при оценке адекватности моделей."
   ]
  },
  {
   "cell_type": "markdown",
   "metadata": {},
   "source": [
    "## Разбейте данные на выборки"
   ]
  },
  {
   "cell_type": "markdown",
   "metadata": {},
   "source": [
    "Разбиваем датасет на три выборки: тренировочную, валидационную и тестовую. В отношении 60:20:20."
   ]
  },
  {
   "cell_type": "code",
   "execution_count": 6,
   "metadata": {},
   "outputs": [],
   "source": [
    "# разделим признаки\n",
    "features = df.drop(['is_ultra'], axis=1)\n",
    "target = df['is_ultra']"
   ]
  },
  {
   "cell_type": "code",
   "execution_count": 7,
   "metadata": {},
   "outputs": [],
   "source": [
    "# разделим датасет на три выборки\n",
    "features_train, features_test, target_train, target_test = train_test_split(\n",
    "    features, target, test_size=0.4, random_state=1, stratify=target\n",
    ")\n",
    "\n",
    "features_valid, features_test, target_valid, target_test = train_test_split(\n",
    "    features_test, target_test, test_size=0.5, random_state=1, stratify=target_test\n",
    ")"
   ]
  },
  {
   "cell_type": "code",
   "execution_count": 8,
   "metadata": {},
   "outputs": [
    {
     "name": "stdout",
     "output_type": "stream",
     "text": [
      "(1928, 4)\n",
      "(1928,)\n",
      "(643, 4)\n",
      "(643,)\n",
      "(643, 4)\n",
      "(643,)\n"
     ]
    }
   ],
   "source": [
    "# проверим верность пропорций\n",
    "print(features_train.shape)\n",
    "print(target_train.shape)\n",
    "\n",
    "print(features_valid.shape)\n",
    "print(target_valid.shape)\n",
    "\n",
    "print(features_test.shape)\n",
    "print(target_test.shape)"
   ]
  },
  {
   "cell_type": "markdown",
   "metadata": {},
   "source": [
    "Переходим к исследованию моделей."
   ]
  },
  {
   "cell_type": "markdown",
   "metadata": {},
   "source": [
    "## Исследуйте модели"
   ]
  },
  {
   "cell_type": "markdown",
   "metadata": {},
   "source": [
    "В рамках данного исследования проверим обучение на разных моделях, чтобы выявить самую лучшую. Будем использовать решающее дерево, случайный лес и логистическую регрессию. Будем решать задачу классификации для категориального целевого признака. Для всех моделей возьмем один random_state, взятый случайно и равный 999."
   ]
  },
  {
   "cell_type": "code",
   "execution_count": 9,
   "metadata": {},
   "outputs": [],
   "source": [
    "random_state = 999"
   ]
  },
  {
   "cell_type": "markdown",
   "metadata": {},
   "source": [
    "### Решающее дерево"
   ]
  },
  {
   "cell_type": "code",
   "execution_count": 10,
   "metadata": {},
   "outputs": [
    {
     "name": "stdout",
     "output_type": "stream",
     "text": [
      "Accuracy лучшей модели: 0.7962674961119751\n",
      "Лучшая глубина: 6\n"
     ]
    }
   ],
   "source": [
    "# лучшая модель\n",
    "best_model_des_tree = None \n",
    "# лучшая точность\n",
    "best_result_des_tree = 0\n",
    "# лучшая глубина\n",
    "best_max_depth_des_tree = None\n",
    "\n",
    "# попробуем найти для этой модели наилучшую глубину не глубже 10\n",
    "for depth in range(1, 11):\n",
    "    model_des_tree = DecisionTreeClassifier(random_state=random_state, max_depth=depth)\n",
    "    model_des_tree.fit(features_train, target_train)\n",
    "    result_des_tree = model_des_tree.score(features_valid, target_valid)\n",
    "    if result_des_tree > best_result_des_tree:\n",
    "        best_model_des_tree = model_des_tree\n",
    "        best_result_des_tree = result_des_tree\n",
    "        best_max_depth_des_tree = depth\n",
    "        \n",
    "print(\"Accuracy лучшей модели:\", best_result_des_tree)\n",
    "print('Лучшая глубина:', best_max_depth_des_tree)"
   ]
  },
  {
   "cell_type": "markdown",
   "metadata": {},
   "source": [
    "### Случайный лес"
   ]
  },
  {
   "cell_type": "code",
   "execution_count": 11,
   "metadata": {},
   "outputs": [
    {
     "name": "stdout",
     "output_type": "stream",
     "text": [
      "Accuracy лучшей модели: 0.7978227060653188\n",
      "Лучшее кол-во деревьев: 10\n"
     ]
    }
   ],
   "source": [
    "# лучшая модель\n",
    "best_model_random_tree = None \n",
    "# лучшая точность\n",
    "best_result_random_tree = 0\n",
    "# лучшее кол-во деревьев\n",
    "best_est_random_tree = None\n",
    "\n",
    "# попробуем найти для этой модели наилучшее кол-во деревьев не больше 100\n",
    "for est in range(1, 11):\n",
    "    model_random_tree = RandomForestClassifier(random_state=random_state, n_estimators=est)\n",
    "    model_random_tree.fit(features_train, target_train)\n",
    "    result_random_tree = model_random_tree.score(features_valid, target_valid)\n",
    "    if result_random_tree > best_result_random_tree:\n",
    "        best_model_random_tree = model_random_tree\n",
    "        best_result_random_tree = result_random_tree\n",
    "        best_est_random_tree = est\n",
    "        \n",
    "print(\"Accuracy лучшей модели:\", best_result_random_tree)\n",
    "print('Лучшее кол-во деревьев:', best_est_random_tree)"
   ]
  },
  {
   "cell_type": "markdown",
   "metadata": {},
   "source": [
    "### Логистическая регрессия"
   ]
  },
  {
   "cell_type": "code",
   "execution_count": 12,
   "metadata": {},
   "outputs": [
    {
     "name": "stdout",
     "output_type": "stream",
     "text": [
      "Accuracy лучшей модели: 0.7527216174183515\n",
      "Лучшее кол-во итераций: 100\n"
     ]
    }
   ],
   "source": [
    "# лучшая модель\n",
    "best_model_log_reg = None \n",
    "# лучшая точность\n",
    "best_result_log_reg = 0\n",
    "# лучшее кол-во итераций\n",
    "best_iter_log_reg = None\n",
    "\n",
    "# попробуем найти для этой модели наилучшее кол-во итераций\n",
    "for iter_count in range(100, 501, 100):\n",
    "    model_log_reg = LogisticRegression(random_state=random_state, solver='lbfgs', max_iter=iter_count)\n",
    "    model_log_reg.fit(features_train, target_train)\n",
    "    result_log_reg = model_log_reg.score(features_valid, target_valid)\n",
    "    if result_log_reg > best_result_log_reg:\n",
    "        best_model_log_reg = model_log_reg\n",
    "        best_result_log_reg = result_log_reg\n",
    "        best_iter_log_reg = iter_count\n",
    "        \n",
    "print(\"Accuracy лучшей модели:\", best_result_log_reg)\n",
    "print('Лучшее кол-во итераций:', best_iter_log_reg)"
   ]
  },
  {
   "cell_type": "markdown",
   "metadata": {},
   "source": [
    "Получилось следующим образом, что решая задачу при помощи случайного леса с 10 деревьями можно получить самую лучшую точность. Но теперь это надо проверить на тестовых данных."
   ]
  },
  {
   "cell_type": "markdown",
   "metadata": {},
   "source": [
    "## Проверьте модель на тестовой выборке"
   ]
  },
  {
   "cell_type": "markdown",
   "metadata": {},
   "source": [
    "Используем сохраненную модель с нужными гиперпараметрами, чтобы проверить на тестовой выборке данных."
   ]
  },
  {
   "cell_type": "code",
   "execution_count": 13,
   "metadata": {},
   "outputs": [
    {
     "name": "stdout",
     "output_type": "stream",
     "text": [
      "Точность для RandomForestClassifier 0.7978227060653188\n"
     ]
    }
   ],
   "source": [
    "# соберем обучающую и валидационную выборку, чтобы провести проверку на большей выборке\n",
    "features_train_valid = pd.concat([features_train, features_valid])\n",
    "target_train_valid = pd.concat([target_train, target_valid])\n",
    "\n",
    "# еще раз обучим\n",
    "final_model_random_tree = RandomForestClassifier(random_state=random_state, n_estimators=10)\n",
    "final_model_random_tree.fit(features_train_valid, target_train_valid)\n",
    "final_result = final_model_random_tree.score(features_test, target_test)\n",
    "print('Точность для', type(final_model_random_tree).__name__, final_result)"
   ]
  },
  {
   "cell_type": "markdown",
   "metadata": {},
   "source": [
    "Видим, что точность модели на тестовых данных составила почти 0.8, что является для нас хорошим резульататом. Нет переобучения и недообучения. Если же нагрузка не предполагается большая (скорее всего случайный пользователь может выбрать тариф только раз в месяц), то случайный лес должен показывать самые лучшие результаты."
   ]
  },
  {
   "cell_type": "markdown",
   "metadata": {},
   "source": [
    "## (бонус) Проверьте модели на адекватность"
   ]
  },
  {
   "cell_type": "markdown",
   "metadata": {},
   "source": [
    "Проверим адекватность модели по сравнению с наивным алгоритмом предсказания по частоте выбираемых тарифов."
   ]
  },
  {
   "cell_type": "code",
   "execution_count": 14,
   "metadata": {},
   "outputs": [
    {
     "name": "stdout",
     "output_type": "stream",
     "text": [
      "0.6936236391912908\n"
     ]
    }
   ],
   "source": [
    "dummy_clf = DummyClassifier(strategy=\"most_frequent\")\n",
    "dummy_clf.fit(features_train_valid, target_train_valid)\n",
    "adequacy = dummy_clf.score(features_test, target_test)\n",
    "print(adequacy)"
   ]
  },
  {
   "cell_type": "markdown",
   "metadata": {},
   "source": [
    "Видим, что точность модели выше, чем у алгоритма со стратегией частоты целевого признака, значит, можно считать обученную модель адекватной."
   ]
  },
  {
   "cell_type": "markdown",
   "metadata": {},
   "source": [
    "## Вывод"
   ]
  },
  {
   "cell_type": "markdown",
   "metadata": {},
   "source": [
    "В ходе данного исследования мы рассматривали датасет пользования клиентами услуг, чтобы предсказать, какой тариф им подойдет лучше всего в будущем: «Смарт» или «Ультра». Так как это категориальный признак, то мы разбирали задачу классификации, используя решающее дерево, случайный лес и логистическую регрессию.\n",
    "\n",
    "После обучения мы остановились на случайном дереве, эта модель показала самую лучшую точность. Мы проверили её на тестовой выборке, предварительно объединив обратно обучающую и валидационную, и получили приемлемый результат. Проверку адекватности модель также прошла успешно."
   ]
  },
  {
   "cell_type": "code",
   "execution_count": null,
   "metadata": {},
   "outputs": [],
   "source": []
  }
 ],
 "metadata": {
  "ExecuteTimeLog": [
   {
    "duration": 404,
    "start_time": "2023-01-18T07:55:15.482Z"
   },
   {
    "duration": 120,
    "start_time": "2023-01-18T07:58:07.406Z"
   },
   {
    "duration": 16,
    "start_time": "2023-01-18T07:58:12.413Z"
   },
   {
    "duration": 12,
    "start_time": "2023-01-18T07:58:26.845Z"
   },
   {
    "duration": 809,
    "start_time": "2023-01-18T08:04:48.760Z"
   },
   {
    "duration": 6,
    "start_time": "2023-01-18T08:11:44.152Z"
   },
   {
    "duration": 1124,
    "start_time": "2023-01-18T08:13:35.638Z"
   },
   {
    "duration": 29,
    "start_time": "2023-01-18T08:13:36.764Z"
   },
   {
    "duration": 23,
    "start_time": "2023-01-18T08:13:36.795Z"
   },
   {
    "duration": 14,
    "start_time": "2023-01-18T08:13:36.821Z"
   },
   {
    "duration": 9,
    "start_time": "2023-01-18T08:13:36.836Z"
   },
   {
    "duration": 97,
    "start_time": "2023-01-18T08:15:44.079Z"
   },
   {
    "duration": 4,
    "start_time": "2023-01-18T08:17:22.315Z"
   },
   {
    "duration": 5,
    "start_time": "2023-01-18T08:17:23.317Z"
   },
   {
    "duration": 3,
    "start_time": "2023-01-18T08:19:10.043Z"
   },
   {
    "duration": 4,
    "start_time": "2023-01-18T08:19:16.085Z"
   },
   {
    "duration": 3,
    "start_time": "2023-01-18T08:19:30.563Z"
   },
   {
    "duration": 3,
    "start_time": "2023-01-18T08:20:21.464Z"
   },
   {
    "duration": 3,
    "start_time": "2023-01-18T08:20:25.990Z"
   },
   {
    "duration": 5,
    "start_time": "2023-01-18T08:20:39.318Z"
   },
   {
    "duration": 6,
    "start_time": "2023-01-18T08:20:55.122Z"
   },
   {
    "duration": 3,
    "start_time": "2023-01-18T08:29:05.932Z"
   },
   {
    "duration": 15,
    "start_time": "2023-01-18T08:32:04.272Z"
   },
   {
    "duration": 14,
    "start_time": "2023-01-18T08:33:07.636Z"
   },
   {
    "duration": 11,
    "start_time": "2023-01-18T08:36:43.835Z"
   },
   {
    "duration": 10,
    "start_time": "2023-01-18T08:37:54.781Z"
   },
   {
    "duration": 11,
    "start_time": "2023-01-18T08:42:08.142Z"
   },
   {
    "duration": 10,
    "start_time": "2023-01-18T08:42:16.231Z"
   },
   {
    "duration": 14,
    "start_time": "2023-01-18T08:54:27.215Z"
   },
   {
    "duration": 10,
    "start_time": "2023-01-18T08:55:05.120Z"
   },
   {
    "duration": 13,
    "start_time": "2023-01-18T08:55:46.929Z"
   },
   {
    "duration": 12,
    "start_time": "2023-01-18T08:55:57.719Z"
   },
   {
    "duration": 21,
    "start_time": "2023-01-18T08:57:34.444Z"
   },
   {
    "duration": 9,
    "start_time": "2023-01-18T09:00:31.141Z"
   },
   {
    "duration": 13,
    "start_time": "2023-01-18T09:01:21.280Z"
   },
   {
    "duration": 7,
    "start_time": "2023-01-18T09:01:37.404Z"
   },
   {
    "duration": 14,
    "start_time": "2023-01-18T09:01:38.991Z"
   },
   {
    "duration": 10,
    "start_time": "2023-01-18T09:02:18.076Z"
   },
   {
    "duration": 7,
    "start_time": "2023-01-18T09:07:17.464Z"
   },
   {
    "duration": 13,
    "start_time": "2023-01-18T09:07:18.503Z"
   },
   {
    "duration": 11,
    "start_time": "2023-01-18T09:08:22.689Z"
   },
   {
    "duration": 15,
    "start_time": "2023-01-18T09:09:09.925Z"
   },
   {
    "duration": 8,
    "start_time": "2023-01-18T09:09:23.423Z"
   },
   {
    "duration": 5,
    "start_time": "2023-01-18T09:10:28.607Z"
   },
   {
    "duration": 9,
    "start_time": "2023-01-18T09:10:29.740Z"
   },
   {
    "duration": 6,
    "start_time": "2023-01-18T09:11:10.262Z"
   },
   {
    "duration": 11,
    "start_time": "2023-01-18T09:11:10.902Z"
   },
   {
    "duration": 6,
    "start_time": "2023-01-18T09:22:27.882Z"
   },
   {
    "duration": 9,
    "start_time": "2023-01-18T09:22:28.481Z"
   },
   {
    "duration": 34,
    "start_time": "2023-01-18T09:27:35.249Z"
   },
   {
    "duration": 36,
    "start_time": "2023-01-18T09:27:54.586Z"
   },
   {
    "duration": 10,
    "start_time": "2023-01-18T09:35:12.425Z"
   },
   {
    "duration": 4,
    "start_time": "2023-01-18T09:35:42.393Z"
   },
   {
    "duration": 247,
    "start_time": "2023-01-18T09:37:51.805Z"
   },
   {
    "duration": 234,
    "start_time": "2023-01-18T09:38:09.854Z"
   },
   {
    "duration": 38,
    "start_time": "2023-01-18T09:49:14.731Z"
   },
   {
    "duration": 276,
    "start_time": "2023-01-18T09:49:34.995Z"
   },
   {
    "duration": 5,
    "start_time": "2023-01-18T10:04:35.736Z"
   },
   {
    "duration": 5,
    "start_time": "2023-01-18T10:11:56.812Z"
   },
   {
    "duration": 10,
    "start_time": "2023-01-18T10:12:06.055Z"
   },
   {
    "duration": 7,
    "start_time": "2023-01-18T10:13:14.229Z"
   },
   {
    "duration": 4,
    "start_time": "2023-01-18T10:13:28.045Z"
   },
   {
    "duration": 29,
    "start_time": "2023-01-18T10:16:19.464Z"
   },
   {
    "duration": 241,
    "start_time": "2023-01-18T10:16:46.166Z"
   },
   {
    "duration": 28,
    "start_time": "2023-01-18T10:17:27.105Z"
   },
   {
    "duration": 28,
    "start_time": "2023-01-18T10:17:44.208Z"
   },
   {
    "duration": 242,
    "start_time": "2023-01-18T10:17:57.592Z"
   },
   {
    "duration": 252,
    "start_time": "2023-01-18T10:18:15.693Z"
   },
   {
    "duration": 71,
    "start_time": "2023-01-18T10:18:42.642Z"
   },
   {
    "duration": 64,
    "start_time": "2023-01-18T10:19:05.969Z"
   },
   {
    "duration": 265,
    "start_time": "2023-01-18T10:19:20.284Z"
   },
   {
    "duration": 257,
    "start_time": "2023-01-18T10:19:37.099Z"
   },
   {
    "duration": 278,
    "start_time": "2023-01-18T10:20:35.449Z"
   },
   {
    "duration": 489,
    "start_time": "2023-01-18T10:21:07.648Z"
   },
   {
    "duration": 153,
    "start_time": "2023-01-18T10:21:16.121Z"
   },
   {
    "duration": 67,
    "start_time": "2023-01-18T10:21:22.269Z"
   },
   {
    "duration": 259,
    "start_time": "2023-01-18T10:21:25.629Z"
   },
   {
    "duration": 12,
    "start_time": "2023-01-18T10:24:31.765Z"
   },
   {
    "duration": 12,
    "start_time": "2023-01-18T10:25:08.142Z"
   },
   {
    "duration": 4853,
    "start_time": "2023-01-18T10:41:31.849Z"
   },
   {
    "duration": 238,
    "start_time": "2023-01-18T10:41:52.329Z"
   },
   {
    "duration": 3,
    "start_time": "2023-01-18T10:52:18.841Z"
   },
   {
    "duration": 11,
    "start_time": "2023-01-18T10:52:32.583Z"
   },
   {
    "duration": 3,
    "start_time": "2023-01-18T10:52:44.489Z"
   },
   {
    "duration": 31,
    "start_time": "2023-01-18T10:52:45.338Z"
   },
   {
    "duration": 14,
    "start_time": "2023-01-18T10:53:16.690Z"
   },
   {
    "duration": 1071,
    "start_time": "2023-01-18T11:04:40.084Z"
   },
   {
    "duration": 28,
    "start_time": "2023-01-18T11:04:41.157Z"
   },
   {
    "duration": 14,
    "start_time": "2023-01-18T11:04:41.186Z"
   },
   {
    "duration": 9,
    "start_time": "2023-01-18T11:04:41.202Z"
   },
   {
    "duration": 4,
    "start_time": "2023-01-18T11:04:41.213Z"
   },
   {
    "duration": 6,
    "start_time": "2023-01-18T11:04:41.219Z"
   },
   {
    "duration": 9,
    "start_time": "2023-01-18T11:04:41.226Z"
   },
   {
    "duration": 10,
    "start_time": "2023-01-18T11:04:41.236Z"
   },
   {
    "duration": 20,
    "start_time": "2023-01-18T11:04:41.247Z"
   },
   {
    "duration": 66,
    "start_time": "2023-01-18T11:04:41.269Z"
   },
   {
    "duration": 256,
    "start_time": "2023-01-18T11:04:41.336Z"
   },
   {
    "duration": 242,
    "start_time": "2023-01-18T11:04:41.594Z"
   },
   {
    "duration": 12,
    "start_time": "2023-01-18T11:04:41.837Z"
   },
   {
    "duration": 3,
    "start_time": "2023-01-18T11:04:41.850Z"
   },
   {
    "duration": 17,
    "start_time": "2023-01-18T11:04:41.866Z"
   },
   {
    "duration": 1135,
    "start_time": "2023-01-18T11:09:28.832Z"
   },
   {
    "duration": 31,
    "start_time": "2023-01-18T11:09:29.969Z"
   },
   {
    "duration": 17,
    "start_time": "2023-01-18T11:09:30.001Z"
   },
   {
    "duration": 21,
    "start_time": "2023-01-18T11:09:30.020Z"
   },
   {
    "duration": 30,
    "start_time": "2023-01-18T11:09:30.043Z"
   },
   {
    "duration": 19,
    "start_time": "2023-01-18T11:09:30.075Z"
   },
   {
    "duration": 40,
    "start_time": "2023-01-18T11:09:30.096Z"
   },
   {
    "duration": 56,
    "start_time": "2023-01-18T11:09:30.138Z"
   },
   {
    "duration": 50,
    "start_time": "2023-01-18T11:09:30.195Z"
   },
   {
    "duration": 89,
    "start_time": "2023-01-18T11:09:30.247Z"
   },
   {
    "duration": 269,
    "start_time": "2023-01-18T11:09:30.338Z"
   },
   {
    "duration": 268,
    "start_time": "2023-01-18T11:09:30.609Z"
   },
   {
    "duration": 14,
    "start_time": "2023-01-18T11:09:30.879Z"
   },
   {
    "duration": 15,
    "start_time": "2023-01-18T11:09:30.895Z"
   },
   {
    "duration": 92,
    "start_time": "2023-01-18T11:09:30.912Z"
   },
   {
    "duration": 1784,
    "start_time": "2023-01-18T11:26:04.619Z"
   },
   {
    "duration": 65,
    "start_time": "2023-01-18T11:26:06.405Z"
   },
   {
    "duration": 17,
    "start_time": "2023-01-18T11:26:06.472Z"
   },
   {
    "duration": 11,
    "start_time": "2023-01-18T11:26:06.492Z"
   },
   {
    "duration": 10,
    "start_time": "2023-01-18T11:26:06.505Z"
   },
   {
    "duration": 8,
    "start_time": "2023-01-18T11:26:06.516Z"
   },
   {
    "duration": 26,
    "start_time": "2023-01-18T11:26:06.526Z"
   },
   {
    "duration": 14,
    "start_time": "2023-01-18T11:26:06.553Z"
   },
   {
    "duration": 12,
    "start_time": "2023-01-18T11:26:06.568Z"
   },
   {
    "duration": 80,
    "start_time": "2023-01-18T11:26:06.582Z"
   },
   {
    "duration": 256,
    "start_time": "2023-01-18T11:26:06.664Z"
   },
   {
    "duration": 267,
    "start_time": "2023-01-18T11:26:06.921Z"
   },
   {
    "duration": 14,
    "start_time": "2023-01-18T11:26:07.190Z"
   },
   {
    "duration": 6,
    "start_time": "2023-01-18T11:26:07.205Z"
   },
   {
    "duration": 29,
    "start_time": "2023-01-18T11:26:07.227Z"
   },
   {
    "duration": 56,
    "start_time": "2023-01-19T06:50:14.125Z"
   },
   {
    "duration": 1091,
    "start_time": "2023-01-19T06:50:27.464Z"
   },
   {
    "duration": 63,
    "start_time": "2023-01-19T06:50:28.559Z"
   },
   {
    "duration": 16,
    "start_time": "2023-01-19T06:50:28.624Z"
   },
   {
    "duration": 11,
    "start_time": "2023-01-19T06:50:28.642Z"
   },
   {
    "duration": 7,
    "start_time": "2023-01-19T06:50:28.656Z"
   },
   {
    "duration": 6,
    "start_time": "2023-01-19T06:50:28.664Z"
   },
   {
    "duration": 114,
    "start_time": "2023-01-19T06:50:28.672Z"
   },
   {
    "duration": 0,
    "start_time": "2023-01-19T06:50:28.787Z"
   },
   {
    "duration": 0,
    "start_time": "2023-01-19T06:50:28.789Z"
   },
   {
    "duration": 0,
    "start_time": "2023-01-19T06:50:28.789Z"
   },
   {
    "duration": 0,
    "start_time": "2023-01-19T06:50:28.790Z"
   },
   {
    "duration": 0,
    "start_time": "2023-01-19T06:50:28.791Z"
   },
   {
    "duration": 0,
    "start_time": "2023-01-19T06:50:28.803Z"
   },
   {
    "duration": 0,
    "start_time": "2023-01-19T06:50:28.804Z"
   },
   {
    "duration": 0,
    "start_time": "2023-01-19T06:50:28.805Z"
   },
   {
    "duration": 6,
    "start_time": "2023-01-19T06:51:10.167Z"
   },
   {
    "duration": 9,
    "start_time": "2023-01-19T06:51:14.807Z"
   },
   {
    "duration": 8,
    "start_time": "2023-01-19T06:53:31.542Z"
   },
   {
    "duration": 4,
    "start_time": "2023-01-19T06:53:45.090Z"
   },
   {
    "duration": 2,
    "start_time": "2023-01-19T06:53:56.464Z"
   },
   {
    "duration": 8,
    "start_time": "2023-01-19T06:56:53.826Z"
   },
   {
    "duration": 8,
    "start_time": "2023-01-19T06:57:15.593Z"
   },
   {
    "duration": 19,
    "start_time": "2023-01-19T06:57:49.666Z"
   },
   {
    "duration": 1088,
    "start_time": "2023-01-19T06:57:59.233Z"
   },
   {
    "duration": 26,
    "start_time": "2023-01-19T06:58:00.322Z"
   },
   {
    "duration": 18,
    "start_time": "2023-01-19T06:58:00.350Z"
   },
   {
    "duration": 23,
    "start_time": "2023-01-19T06:58:00.370Z"
   },
   {
    "duration": 16,
    "start_time": "2023-01-19T06:58:00.395Z"
   },
   {
    "duration": 26,
    "start_time": "2023-01-19T06:58:00.413Z"
   },
   {
    "duration": 19,
    "start_time": "2023-01-19T06:58:00.441Z"
   },
   {
    "duration": 16,
    "start_time": "2023-01-19T06:58:00.462Z"
   },
   {
    "duration": 33,
    "start_time": "2023-01-19T06:58:00.480Z"
   },
   {
    "duration": 71,
    "start_time": "2023-01-19T06:58:00.516Z"
   },
   {
    "duration": 19294,
    "start_time": "2023-01-19T06:58:00.589Z"
   },
   {
    "duration": 263,
    "start_time": "2023-01-19T06:58:19.884Z"
   },
   {
    "duration": 13,
    "start_time": "2023-01-19T06:58:20.148Z"
   },
   {
    "duration": 5,
    "start_time": "2023-01-19T06:58:20.162Z"
   },
   {
    "duration": 35,
    "start_time": "2023-01-19T06:58:20.168Z"
   },
   {
    "duration": 266,
    "start_time": "2023-01-19T06:59:43.852Z"
   },
   {
    "duration": 5248,
    "start_time": "2023-01-19T06:59:54.370Z"
   },
   {
    "duration": 147,
    "start_time": "2023-01-19T07:01:33.376Z"
   },
   {
    "duration": 279,
    "start_time": "2023-01-19T07:02:35.944Z"
   },
   {
    "duration": 175,
    "start_time": "2023-01-19T07:02:58.929Z"
   },
   {
    "duration": 196,
    "start_time": "2023-01-19T07:04:02.350Z"
   },
   {
    "duration": 197,
    "start_time": "2023-01-19T07:04:23.394Z"
   },
   {
    "duration": 1925,
    "start_time": "2023-01-19T07:06:41.335Z"
   },
   {
    "duration": 1524,
    "start_time": "2023-01-19T07:06:59.384Z"
   },
   {
    "duration": 1322,
    "start_time": "2023-01-19T07:07:06.618Z"
   },
   {
    "duration": 1169,
    "start_time": "2023-01-19T07:07:29.634Z"
   },
   {
    "duration": 262,
    "start_time": "2023-01-19T07:10:17.310Z"
   },
   {
    "duration": 158,
    "start_time": "2023-01-19T07:11:37.599Z"
   },
   {
    "duration": 11,
    "start_time": "2023-01-19T07:43:34.274Z"
   },
   {
    "duration": 270,
    "start_time": "2023-01-19T07:43:56.608Z"
   },
   {
    "duration": 64,
    "start_time": "2023-01-19T07:43:59.362Z"
   },
   {
    "duration": 155,
    "start_time": "2023-01-19T07:44:02.636Z"
   },
   {
    "duration": 9,
    "start_time": "2023-01-19T07:44:06.668Z"
   },
   {
    "duration": 5,
    "start_time": "2023-01-19T07:44:30.021Z"
   },
   {
    "duration": 8,
    "start_time": "2023-01-19T07:44:37.918Z"
   },
   {
    "duration": 9,
    "start_time": "2023-01-19T07:44:47.029Z"
   },
   {
    "duration": 5,
    "start_time": "2023-01-19T07:51:28.548Z"
   },
   {
    "duration": 4,
    "start_time": "2023-01-19T07:51:42.019Z"
   },
   {
    "duration": 4,
    "start_time": "2023-01-19T07:51:50.723Z"
   },
   {
    "duration": 18,
    "start_time": "2023-01-19T07:53:26.404Z"
   },
   {
    "duration": 14,
    "start_time": "2023-01-19T07:53:46.642Z"
   },
   {
    "duration": 67,
    "start_time": "2023-01-19T07:56:36.808Z"
   },
   {
    "duration": 66,
    "start_time": "2023-01-19T07:57:39.968Z"
   },
   {
    "duration": 71,
    "start_time": "2023-01-19T07:58:15.070Z"
   },
   {
    "duration": 3,
    "start_time": "2023-01-19T08:02:11.740Z"
   },
   {
    "duration": 83,
    "start_time": "2023-01-19T08:02:35.450Z"
   },
   {
    "duration": 8,
    "start_time": "2023-01-19T08:06:37.255Z"
   },
   {
    "duration": 6,
    "start_time": "2023-01-19T08:08:09.280Z"
   },
   {
    "duration": 1115,
    "start_time": "2023-01-19T08:12:08.532Z"
   },
   {
    "duration": 25,
    "start_time": "2023-01-19T08:12:09.649Z"
   },
   {
    "duration": 18,
    "start_time": "2023-01-19T08:12:09.675Z"
   },
   {
    "duration": 46,
    "start_time": "2023-01-19T08:12:09.694Z"
   },
   {
    "duration": 13,
    "start_time": "2023-01-19T08:12:09.742Z"
   },
   {
    "duration": 28,
    "start_time": "2023-01-19T08:12:09.756Z"
   },
   {
    "duration": 24,
    "start_time": "2023-01-19T08:12:09.786Z"
   },
   {
    "duration": 20,
    "start_time": "2023-01-19T08:12:09.812Z"
   },
   {
    "duration": 21,
    "start_time": "2023-01-19T08:12:09.833Z"
   },
   {
    "duration": 92,
    "start_time": "2023-01-19T08:12:09.857Z"
   },
   {
    "duration": 281,
    "start_time": "2023-01-19T08:12:09.950Z"
   },
   {
    "duration": 173,
    "start_time": "2023-01-19T08:12:10.233Z"
   },
   {
    "duration": 166,
    "start_time": "2023-01-19T08:12:10.407Z"
   },
   {
    "duration": 0,
    "start_time": "2023-01-19T08:12:10.575Z"
   },
   {
    "duration": 71,
    "start_time": "2023-01-19T08:13:45.040Z"
   },
   {
    "duration": 6,
    "start_time": "2023-01-19T08:14:14.641Z"
   },
   {
    "duration": 1173,
    "start_time": "2023-01-19T08:14:32.849Z"
   },
   {
    "duration": 30,
    "start_time": "2023-01-19T08:14:34.024Z"
   },
   {
    "duration": 18,
    "start_time": "2023-01-19T08:14:34.056Z"
   },
   {
    "duration": 16,
    "start_time": "2023-01-19T08:14:34.075Z"
   },
   {
    "duration": 39,
    "start_time": "2023-01-19T08:14:34.093Z"
   },
   {
    "duration": 38,
    "start_time": "2023-01-19T08:14:34.134Z"
   },
   {
    "duration": 28,
    "start_time": "2023-01-19T08:14:34.174Z"
   },
   {
    "duration": 61,
    "start_time": "2023-01-19T08:14:34.203Z"
   },
   {
    "duration": 69,
    "start_time": "2023-01-19T08:14:34.267Z"
   },
   {
    "duration": 116,
    "start_time": "2023-01-19T08:14:34.339Z"
   },
   {
    "duration": 307,
    "start_time": "2023-01-19T08:14:34.457Z"
   },
   {
    "duration": 173,
    "start_time": "2023-01-19T08:14:34.766Z"
   },
   {
    "duration": 75,
    "start_time": "2023-01-19T08:14:34.941Z"
   },
   {
    "duration": 6,
    "start_time": "2023-01-19T08:14:35.020Z"
   }
  ],
  "kernelspec": {
   "display_name": "Python 3 (ipykernel)",
   "language": "python",
   "name": "python3"
  },
  "language_info": {
   "codemirror_mode": {
    "name": "ipython",
    "version": 3
   },
   "file_extension": ".py",
   "mimetype": "text/x-python",
   "name": "python",
   "nbconvert_exporter": "python",
   "pygments_lexer": "ipython3",
   "version": "3.9.13"
  },
  "toc": {
   "base_numbering": 1,
   "nav_menu": {},
   "number_sections": true,
   "sideBar": true,
   "skip_h1_title": true,
   "title_cell": "Table of Contents",
   "title_sidebar": "Contents",
   "toc_cell": false,
   "toc_position": {},
   "toc_section_display": true,
   "toc_window_display": true
  }
 },
 "nbformat": 4,
 "nbformat_minor": 2
}
